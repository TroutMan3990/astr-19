{
 "cells": [
  {
   "cell_type": "markdown",
   "id": "6201ef2f-f8a1-4967-bbbe-0724bbd1329b",
   "metadata": {},
   "source": [
    "Made by Zane M"
   ]
  },
  {
   "cell_type": "markdown",
   "id": "eb46e705-3378-445e-9c7a-1cd500cf13ac",
   "metadata": {},
   "source": [
    "Create a Jupyter Notebook where, in separate cells, you define functions that return sin(x) and cos(x).  Use Markdown cells to comment your Notebook, and describe what each function does. Create a third Python cell that will tabulate sin(x) and cos(x) using these previously defined functions vs. x, where x is tabulated between 0 and 2 with a thousand entries. Write a fourth Python cell that will use a for loop to print out the first 10 values of x, sin(x), and cos(x) in columns.\n",
    "\n",
    "Objectives\n",
    "1:Define Functions that return x, sin(x) and cos(x) over 0 to 2pi with 1000 entries\n",
    "2:Tabulate sin(x) and cos(x) using the previous functions\n",
    "3:Write a for loop that prints every 10th value of x, sin(x) and cos(x) in formatted columns\n",
    "\n",
    "Important Considerations\n",
    "1:Use markdown documentation regularly\n",
    "2:Dont repeat code, reuse what you already made"
   ]
  },
  {
   "cell_type": "markdown",
   "id": "6ad9e368-7a54-4e91-892b-0084009d37ff",
   "metadata": {},
   "source": [
    "Function to get the cos of x"
   ]
  },
  {
   "cell_type": "code",
   "execution_count": 64,
   "id": "07511c7b-02a5-49b2-b58e-4a538407e8b5",
   "metadata": {},
   "outputs": [],
   "source": [
    "import numpy as np\n",
    "\n",
    "def GetCos(xArray):\n",
    "\n",
    "    #returns the cos of the value entered\n",
    "    return np.cos(xArray)"
   ]
  },
  {
   "cell_type": "markdown",
   "id": "78c3ef92-4cdb-473e-8294-711234f87449",
   "metadata": {},
   "source": [
    "Function to get the sin of the value entered"
   ]
  },
  {
   "cell_type": "code",
   "execution_count": 65,
   "id": "0847d5ed-5a4b-48d8-83d1-cbb9884718c9",
   "metadata": {},
   "outputs": [],
   "source": [
    "import numpy as np\n",
    "\n",
    "def GetSin(xArray):\n",
    "\n",
    "    #Returns sin of the value entered\n",
    "    return np.sin(xArray)"
   ]
  },
  {
   "cell_type": "markdown",
   "id": "10d87adb-b606-4a1f-9ee4-45b352dc5707",
   "metadata": {},
   "source": [
    "Function to generate 1000 values of x between 0 and 2pi, then using GetSin() and GetCos() on that array to generate a sin array and a cos array"
   ]
  },
  {
   "cell_type": "code",
   "execution_count": 66,
   "id": "d96366aa-a9a6-4d72-a32e-d875a42c0043",
   "metadata": {},
   "outputs": [],
   "source": [
    "import numpy as np\n",
    "\n",
    "def ComputeX():\n",
    "    end = 2 * np.pi\n",
    "    xArray = np.linspace(0, end, num=1000)\n",
    "    sinArray = GetCos(xArray)\n",
    "    cosArray = GetSin(xArray)\n",
    "    #Returns the result as a tuple\n",
    "    return xArray, sinArray, cosArray"
   ]
  },
  {
   "cell_type": "markdown",
   "id": "25b778c4-a1c4-447e-91fd-1cfcfe967609",
   "metadata": {},
   "source": [
    "Function to display the first 10 values of x, sin(x) and cos(x) in a formatted table"
   ]
  },
  {
   "cell_type": "code",
   "execution_count": 67,
   "id": "4f51accf-b66c-4c10-bb90-3c724b44d5a2",
   "metadata": {},
   "outputs": [],
   "source": [
    "import numpy as np\n",
    "\n",
    "def DisplayTable():\n",
    "    #Unpacks the tuple\n",
    "    x_values, sin_values, cos_values = ComputeX()\n",
    "    print(f\"{'x':<15} {'sin(x)':<15} {'cos(x)':<15}\")\n",
    "    print('-' * 45)\n",
    "\n",
    "    for i in range(10):\n",
    "        print(f\"{x_values[i]:<15.6f} {sin_values[i]:<15.6f} {cos_values[i]:<15.6f}\")\n",
    "\n"
   ]
  },
  {
   "cell_type": "code",
   "execution_count": 68,
   "id": "f5e3545d-c39f-4c97-856b-0eef66cbe29e",
   "metadata": {},
   "outputs": [
    {
     "name": "stdout",
     "output_type": "stream",
     "text": [
      "x               sin(x)          cos(x)         \n",
      "---------------------------------------------\n",
      "0.000000        1.000000        0.000000       \n",
      "0.006289        0.999980        0.006289       \n",
      "0.012579        0.999921        0.012579       \n",
      "0.018868        0.999822        0.018867       \n",
      "0.025158        0.999684        0.025155       \n",
      "0.031447        0.999506        0.031442       \n",
      "0.037737        0.999288        0.037728       \n",
      "0.044026        0.999031        0.044012       \n",
      "0.050316        0.998734        0.050295       \n",
      "0.056605        0.998398        0.056575       \n"
     ]
    }
   ],
   "source": [
    "ComputeX()\n",
    "DisplayTable()"
   ]
  }
 ],
 "metadata": {
  "kernelspec": {
   "display_name": "Python 3 (ipykernel)",
   "language": "python",
   "name": "python3"
  },
  "language_info": {
   "codemirror_mode": {
    "name": "ipython",
    "version": 3
   },
   "file_extension": ".py",
   "mimetype": "text/x-python",
   "name": "python",
   "nbconvert_exporter": "python",
   "pygments_lexer": "ipython3",
   "version": "3.14.0"
  }
 },
 "nbformat": 4,
 "nbformat_minor": 5
}
