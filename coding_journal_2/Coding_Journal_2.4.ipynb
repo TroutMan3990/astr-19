{
 "cells": [
  {
   "cell_type": "code",
   "execution_count": null,
   "id": "f06f4a66-c0ad-4947-be0a-db6afc817b02",
   "metadata": {},
   "outputs": [],
   "source": [
    "import matplotlib.pyplot as plt\n",
    "import numpy as np"
   ]
  },
  {
   "cell_type": "code",
   "execution_count": null,
   "id": "5203661d-fa98-4f52-baeb-74ac91296159",
   "metadata": {},
   "outputs": [],
   "source": [
    "mean, sigma = 1, 0.5\n",
    "x = np.random.lognormal(mean, sigma, size=1000)"
   ]
  },
  {
   "cell_type": "code",
   "execution_count": null,
   "id": "92369ed8-1ad7-4a92-a8c3-51056d0ef517",
   "metadata": {},
   "outputs": [],
   "source": [
    "fig, ax = plt.subplots()\n",
    "\n",
    "ax.hist(x, bins=100, color='lightgreen', edgecolor='black')\n",
    "\n",
    "ax.set_xlabel(\"Value\")\n",
    "ax.set_ylabel(\"Frequency\")\n",
    "ax.set_xlim(0)\n",
    "ax.set_title(\"Histogram of Lognormal Random Numbers\")\n",
    "\n",
    "plt.savefig(\"lognormal_histogram.pdf\")\n",
    "\n",
    "#plt.show()"
   ]
  }
 ],
 "metadata": {
  "kernelspec": {
   "display_name": "Python 3 (ipykernel)",
   "language": "python",
   "name": "python3"
  },
  "language_info": {
   "codemirror_mode": {
    "name": "ipython",
    "version": 3
   },
   "file_extension": ".py",
   "mimetype": "text/x-python",
   "name": "python",
   "nbconvert_exporter": "python",
   "pygments_lexer": "ipython3",
   "version": "3.14.0"
  }
 },
 "nbformat": 4,
 "nbformat_minor": 5
}
