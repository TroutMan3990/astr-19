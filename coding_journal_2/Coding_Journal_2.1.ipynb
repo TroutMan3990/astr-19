{
 "cells": [
  {
   "cell_type": "code",
   "execution_count": null,
   "id": "18ef8a71-b5d6-4616-b74a-2ba12d211e39",
   "metadata": {},
   "outputs": [],
   "source": [
    "import matplotlib.pyplot as plt\n",
    "import numpy as np"
   ]
  },
  {
   "cell_type": "markdown",
   "id": "7eb767f9-78f8-49e1-95ef-edde274b1724",
   "metadata": {},
   "source": [
    "Coding Journal 2.1\n",
    "\n",
    "Define an array x that is 0 to 1 with 100 evenly spaced floats\n",
    "Define an array exp that is the exponentional of the array x\n",
    "Plot the exp array"
   ]
  },
  {
   "cell_type": "code",
   "execution_count": null,
   "id": "45bf6b5e-e9bd-4951-be4f-7b12acd547b2",
   "metadata": {},
   "outputs": [],
   "source": [
    "fig, ax = plt.subplots()\n",
    "x = np.linspace(0,1,100)\n",
    "exp = np.exp(x)\n",
    "ax.plot(x, exp)\n",
    "ax.set_ylabel(\"Awesomeness\")\n",
    "ax.set_xlabel(\"Time [milliseconds]\")\n",
    "plt.show()\n",
    "#fig.savefig('exp_plot.pdf')"
   ]
  }
 ],
 "metadata": {
  "kernelspec": {
   "display_name": "Python 3 (ipykernel)",
   "language": "python",
   "name": "python3"
  },
  "language_info": {
   "codemirror_mode": {
    "name": "ipython",
    "version": 3
   },
   "file_extension": ".py",
   "mimetype": "text/x-python",
   "name": "python",
   "nbconvert_exporter": "python",
   "pygments_lexer": "ipython3",
   "version": "3.13.7"
  }
 },
 "nbformat": 4,
 "nbformat_minor": 5
}
