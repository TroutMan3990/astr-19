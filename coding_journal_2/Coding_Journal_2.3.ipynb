{
 "cells": [
  {
   "cell_type": "code",
   "execution_count": null,
   "id": "6a7f2070-503d-407d-ad9f-b190884fda1e",
   "metadata": {},
   "outputs": [],
   "source": [
    "import matplotlib.pyplot as plt\n",
    "import numpy as np\n",
    "rng = np.random.default_rng()"
   ]
  },
  {
   "cell_type": "code",
   "execution_count": null,
   "id": "6611d582-c059-46a4-ad2e-29eb6fe7c2f1",
   "metadata": {},
   "outputs": [],
   "source": [
    "x = rng.random(1000)\n",
    "#print(x)"
   ]
  },
  {
   "cell_type": "code",
   "execution_count": null,
   "id": "a7db22d1-c098-469d-8f5c-5b1a978b8ca2",
   "metadata": {},
   "outputs": [],
   "source": [
    "fig, ax = plt.subplots()\n",
    "\n",
    "ax.hist(x, bins=100, color='skyblue', edgecolor='black')\n",
    "\n",
    "ax.set_xlabel(\"Random Value\")\n",
    "ax.set_ylabel(\"Frequency\")\n",
    "ax.set_xlim(0, 1)\n",
    "ax.set_title(\"Histogram of 1000 Random Numbers\")\n",
    "\n",
    "#plt.show()\n",
    "plt.savefig(\"random_histogram.pdf\")"
   ]
  }
 ],
 "metadata": {
  "kernelspec": {
   "display_name": "Python 3 (ipykernel)",
   "language": "python",
   "name": "python3"
  },
  "language_info": {
   "codemirror_mode": {
    "name": "ipython",
    "version": 3
   },
   "file_extension": ".py",
   "mimetype": "text/x-python",
   "name": "python",
   "nbconvert_exporter": "python",
   "pygments_lexer": "ipython3",
   "version": "3.14.0"
  }
 },
 "nbformat": 4,
 "nbformat_minor": 5
}
