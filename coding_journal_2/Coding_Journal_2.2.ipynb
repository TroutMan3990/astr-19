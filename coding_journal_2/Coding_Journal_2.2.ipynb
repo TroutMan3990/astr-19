{
 "cells": [
  {
   "cell_type": "code",
   "execution_count": null,
   "id": "3ea2b0af-bd05-4ee0-b869-ee4f4b785553",
   "metadata": {},
   "outputs": [],
   "source": [
    "import matplotlib.pyplot as plt\n",
    "import numpy as np"
   ]
  },
  {
   "cell_type": "markdown",
   "id": "5758f501-ea1c-40d7-8e65-9bb2524ef184",
   "metadata": {},
   "source": [
    "Coding Journal 2.2\n",
    "\n",
    "Define an array x that is 0 to 1 with 100 evenly spaced floats Define an array sin that is the sin of x Define an array cos that is the cos of x Create a mutipanel plot with 1 row and 2 columns Plot sin x vs x in the left Plot cos x vs x in the right Label the panels as sinx and cosx"
   ]
  },
  {
   "cell_type": "code",
   "execution_count": null,
   "id": "de61c945-721d-4316-a643-6c6bbf492a10",
   "metadata": {},
   "outputs": [],
   "source": [
    "x = np.linspace(0,1,100)\n",
    "sin = np.sin(x)\n",
    "cos = np.cos(x)\n",
    "\n",
    "fig, ax = plt.subplots(1, 2)\n",
    "#fig, (ax1, ax2) = plt.subplots(1, 2) //Another way of defining the seperate graphs\n",
    "\n",
    "ax[0].plot(x, sin)\n",
    "ax[0].set_title(\"Sinx\")\n",
    "ax[0].set_xlabel(\"x\")\n",
    "ax[1].plot(x, cos)\n",
    "ax[1].set_title(\"Cosx\")\n",
    "ax[1].set_xlabel(\"x\")\n",
    "\n",
    "#plt.show()\n",
    "fig.savefig('sinx_cosx_plot.pdf')"
   ]
  }
 ],
 "metadata": {
  "kernelspec": {
   "display_name": "Python 3 (ipykernel)",
   "language": "python",
   "name": "python3"
  },
  "language_info": {
   "codemirror_mode": {
    "name": "ipython",
    "version": 3
   },
   "file_extension": ".py",
   "mimetype": "text/x-python",
   "name": "python",
   "nbconvert_exporter": "python",
   "pygments_lexer": "ipython3",
   "version": "3.13.7"
  }
 },
 "nbformat": 4,
 "nbformat_minor": 5
}
